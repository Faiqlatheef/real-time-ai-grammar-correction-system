{
 "cells": [
  {
   "cell_type": "code",
   "execution_count": 1,
   "id": "f65ea370",
   "metadata": {},
   "outputs": [],
   "source": [
    "import pandas as pd"
   ]
  },
  {
   "cell_type": "markdown",
   "id": "62bfdec7",
   "metadata": {},
   "source": [
    "Problem 1"
   ]
  },
  {
   "cell_type": "code",
   "execution_count": 2,
   "id": "f0afade1",
   "metadata": {},
   "outputs": [],
   "source": [
    "def check_column_types(left_df, right_df, left_on, right_on):\n",
    "    left_types = left_df[left_on].dtypes\n",
    "    right_types = right_df[right_on].dtypes\n",
    "\n",
    "    for column in left_types.index:\n",
    "        if left_types[column] != right_types[column]:\n",
    "            raise ValueError(f\"Column '{column}' has incompatible types in the left and right dataframes.\")\n"
   ]
  },
  {
   "cell_type": "code",
   "execution_count": 3,
   "id": "81b05227",
   "metadata": {},
   "outputs": [],
   "source": [
    "def custom_merge(left_df, right_df, left_on, right_on, validate=False, enforce_superset=False):\n",
    "    if validate:\n",
    "        if enforce_superset:\n",
    "            # Check if left dataframe contains a superset of merge key combinations in the right dataframe\n",
    "            left_unique_keys = left_df[left_on].drop_duplicates()\n",
    "            right_unique_keys = right_df[right_on].drop_duplicates()\n",
    "            if not left_unique_keys.isin(right_unique_keys).all():\n",
    "                raise ValueError(\"The left dataframe does not contain a superset of merge key combinations available in the right dataset.\")\n",
    "            \n",
    "            # Check if right dataframe contains a superset of merge key combinations in the left dataframe\n",
    "            if not right_unique_keys.isin(left_unique_keys).all():\n",
    "                raise ValueError(\"The right dataframe does not contain a superset of merge key combinations available in the left dataset.\")\n",
    "        \n",
    "            # Check if the two dataframes contain the same sets of merge key combinations\n",
    "            if not left_unique_keys.equals(right_unique_keys):\n",
    "                raise ValueError(\"The two dataframes do not contain the same sets of merge key combinations.\")\n",
    "        \n",
    "        # Check merge columns for consistency of their types\n",
    "        check_column_types(left_df, right_df, left_on, right_on)\n",
    "    \n",
    "    merged_df = pd.merge(left_df, right_df, left_on=left_on, right_on=right_on)\n",
    "    \n",
    "    # Determine the final set of key columns for the resulting merged dataset\n",
    "    if isinstance(left_on, str) and isinstance(right_on, str):\n",
    "        merged_df = merged_df.drop(columns=right_on)\n",
    "\n",
    "    # Raise an error if there are no matched observations from the two input datasets\n",
    "    if validate and merged_df.empty:\n",
    "        raise ValueError(\"No matched observations found in the resulting dataset.\")\n",
    "    \n",
    "    return merged_df"
   ]
  },
  {
   "cell_type": "markdown",
   "id": "3672e93c",
   "metadata": {},
   "source": [
    "Problem 2"
   ]
  },
  {
   "cell_type": "code",
   "execution_count": 11,
   "id": "5f47da36",
   "metadata": {},
   "outputs": [],
   "source": [
    "def calculate_overlap_days(event1_row, event2_row):\n",
    "    event1_start_date, event1_end_date = pd.to_datetime(event1_row['event_1_start_date']), pd.to_datetime(event1_row['event_1_end_date'])\n",
    "    event2_start_date, event2_end_date = pd.to_datetime(event2_row['event_2_start_date']), pd.to_datetime(event2_row['event_2_end_date'])\n",
    "    \n",
    "    # Calculate the overlap\n",
    "    overlap_start = max(event1_start_date, event2_start_date)\n",
    "    overlap_end = min(event1_end_date, event2_end_date)\n",
    "    \n",
    "    overlap_days = (overlap_end - overlap_start).days + 1\n",
    "    return max(0, overlap_days)"
   ]
  },
  {
   "cell_type": "code",
   "execution_count": 12,
   "id": "bbe87543",
   "metadata": {},
   "outputs": [],
   "source": [
    "# Test dataset\n",
    "data = {\n",
    "    'event_1_start_date': ['2023-07-10', '2023-07-15', '2023-07-20'],\n",
    "    'event_1_end_date': ['2023-07-13', '2023-07-18', '2023-07-25'],\n",
    "    'event_2_start_date': ['2023-07-12', '2023-07-16', '2023-07-22'],\n",
    "    'event_2_end_date': ['2023-07-15', '2023-07-20', '2023-07-24'],\n",
    "}\n",
    "\n",
    "df = pd.DataFrame(data)"
   ]
  },
  {
   "cell_type": "code",
   "execution_count": 13,
   "id": "1090ca96",
   "metadata": {},
   "outputs": [
    {
     "name": "stdout",
     "output_type": "stream",
     "text": [
      "  event_1_start_date event_1_end_date event_2_start_date event_2_end_date  \\\n",
      "0         2023-07-10       2023-07-13         2023-07-12       2023-07-15   \n",
      "1         2023-07-15       2023-07-18         2023-07-16       2023-07-20   \n",
      "2         2023-07-20       2023-07-25         2023-07-22       2023-07-24   \n",
      "\n",
      "   overlap_days  \n",
      "0             0  \n",
      "1             3  \n",
      "2             1  \n"
     ]
    }
   ],
   "source": [
    "# Calculate overlap for each row in the DataFrame\n",
    "df['overlap_days'] = df.apply(lambda row: calculate_overlap_days(row, df.iloc[1]), axis=1)\n",
    "\n",
    "print(df)"
   ]
  },
  {
   "cell_type": "markdown",
   "id": "1f886678",
   "metadata": {},
   "source": [
    "Problem 3"
   ]
  },
  {
   "cell_type": "code",
   "execution_count": 14,
   "id": "a5a94e9f",
   "metadata": {},
   "outputs": [],
   "source": [
    "def calculate_overlap_days(event_start, event_end, enrollment_start, enrollment_end):\n",
    "    overlap_start = max(event_start, enrollment_start)\n",
    "    overlap_end = min(event_end, enrollment_end)\n",
    "    overlap_days = (overlap_end - overlap_start).days + 1\n",
    "    return max(0, overlap_days)"
   ]
  },
  {
   "cell_type": "code",
   "execution_count": 16,
   "id": "44b2d7dc",
   "metadata": {},
   "outputs": [],
   "source": [
    "# Load data from the Excel file\n",
    "medical_events = pd.read_excel(\"all_test_data.xlsx\", sheet_name=\"medical_events\")\n",
    "enrollment = pd.read_excel(\"all_test_data.xlsx\", sheet_name=\"enrollment\")\n",
    "death_dates = pd.read_excel(\"all_test_data.xlsx\", sheet_name=\"death_dates\")\n"
   ]
  },
  {
   "cell_type": "code",
   "execution_count": 26,
   "id": "c1328372",
   "metadata": {},
   "outputs": [],
   "source": [
    "# Convert date columns to datetime objects\n",
    "medical_events[\"even_start_date\"] = pd.to_datetime(medical_events[\"even_start_date\"])\n",
    "medical_events[\"event_end_date\"] = pd.to_datetime(medical_events[\"event_end_date\"])\n",
    "enrollment[\"enrollment_start_year_month\"] = pd.to_datetime(enrollment[\"enrollment_start_year_month\"], format=\"%Y-%m\")\n",
    "enrollment[\"enrollment_end_year_month\"] = pd.to_datetime(enrollment[\"enrollment_end_year_month\"], format=\"%Y-%m\")\n"
   ]
  },
  {
   "cell_type": "code",
   "execution_count": 27,
   "id": "36f4cc91",
   "metadata": {},
   "outputs": [],
   "source": [
    "# Merge medical events with enrollment data based on person_id and enrollment_month\n",
    "merged_data = pd.merge(medical_events, enrollment, on=\"patient_id\")\n"
   ]
  },
  {
   "cell_type": "code",
   "execution_count": 28,
   "id": "7aaebdd5",
   "metadata": {},
   "outputs": [],
   "source": [
    "# Filter out events that occurred after a person's death (if available in the person_data sheet)\n",
    "if \"death_dates\" in death_dates.columns:\n",
    "    merged_data = pd.merge(merged_data, death_dates, on=\"patient_id\")\n",
    "    merged_data = merged_data[merged_data[\"event_date\"] <= merged_data[\"death_date\"]]\n"
   ]
  },
  {
   "cell_type": "code",
   "execution_count": 29,
   "id": "5b98d615",
   "metadata": {},
   "outputs": [],
   "source": [
    "# Calculate the overlap days\n",
    "merged_data[\"overlap_days\"] = merged_data.apply(lambda row: calculate_overlap_days(row[\"even_start_date\"], row[\"event_end_date\"], row[\"enrollment_start_year_month\"], row[\"enrollment_end_year_month\"]), axis=1)\n"
   ]
  },
  {
   "cell_type": "code",
   "execution_count": 31,
   "id": "1655c110",
   "metadata": {},
   "outputs": [],
   "source": [
    "# Calculate the total overlap days for each patient\n",
    "total_overlap_days = merged_data.groupby(\"patient_id\")[\"overlap_days\"].sum().reset_index()\n"
   ]
  },
  {
   "cell_type": "code",
   "execution_count": 32,
   "id": "31960877",
   "metadata": {},
   "outputs": [
    {
     "name": "stdout",
     "output_type": "stream",
     "text": [
      "  patient_id  overlap_days\n",
      "0          A            33\n",
      "1          B           142\n",
      "2          C           183\n",
      "3          D            62\n",
      "4          E            94\n"
     ]
    }
   ],
   "source": [
    "print(total_overlap_days)"
   ]
  },
  {
   "cell_type": "code",
   "execution_count": null,
   "id": "37304099",
   "metadata": {},
   "outputs": [],
   "source": []
  }
 ],
 "metadata": {
  "kernelspec": {
   "display_name": "Python 3 (ipykernel)",
   "language": "python",
   "name": "python3"
  },
  "language_info": {
   "codemirror_mode": {
    "name": "ipython",
    "version": 3
   },
   "file_extension": ".py",
   "mimetype": "text/x-python",
   "name": "python",
   "nbconvert_exporter": "python",
   "pygments_lexer": "ipython3",
   "version": "3.9.5"
  }
 },
 "nbformat": 4,
 "nbformat_minor": 5
}
